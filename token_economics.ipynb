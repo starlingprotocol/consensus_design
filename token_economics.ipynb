{
 "cells": [
  {
   "cell_type": "markdown",
   "metadata": {},
   "source": [
    "# Token economics\n",
    "Mitchell 2019.08"
   ]
  },
  {
   "cell_type": "markdown",
   "metadata": {},
   "source": [
    "## Options:\n",
    "\n",
    "Currently evaluating a few possibilities: \n",
    "\n",
    "-  **Race to redeem.** First to broadcast the ticket takes the reward (edited) \n",
    "-  **Tiebreaker mechanism.** With 3 winning tickets we have a deterministic way to pick who goes home with the reward (edited) \n",
    "-  **Divide up the prize.** Nodes have some fixed time window to claim blocks and at the end of that window the amount is divvied up between winners (edited) \n",
    "-  **Positive-sum rewards.** Emission is proportional to number of winners. If the block reward is 3 tokens and 4 nodes self select, that block emits 12 new tokens. (edited) \n",
    "-  **(add other ideas here)**"
   ]
  },
  {
   "cell_type": "markdown",
   "metadata": {},
   "source": [
    "## General notes:\n",
    "\n",
    "(MPKT) I'm not a fan of economic discontinuities like halving events. It just introduces uncertainty for the infrastructure, and periodic debates that introduce lots of noise and speculation with little substance. This notebook will only explore smooth options unless a good argument is put forth for alternatives."
   ]
  }
 ],
 "metadata": {
  "kernelspec": {
   "display_name": "Python 3",
   "language": "python",
   "name": "python3"
  },
  "language_info": {
   "codemirror_mode": {
    "name": "ipython",
    "version": 3
   },
   "file_extension": ".py",
   "mimetype": "text/x-python",
   "name": "python",
   "nbconvert_exporter": "python",
   "pygments_lexer": "ipython3",
   "version": "3.7.3"
  }
 },
 "nbformat": 4,
 "nbformat_minor": 2
}
